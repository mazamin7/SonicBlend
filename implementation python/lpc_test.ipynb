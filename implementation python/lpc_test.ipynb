{
 "cells": [
  {
   "cell_type": "code",
   "execution_count": 159,
   "metadata": {},
   "outputs": [],
   "source": [
    "import numpy as np\n",
    "from scipy.signal import lfilter\n",
    "import matplotlib.pyplot as plt"
   ]
  },
  {
   "cell_type": "code",
   "execution_count": 175,
   "metadata": {},
   "outputs": [],
   "source": [
    "def lpc(x):\n",
    "    r_p = np.correlate(x, x, \"full\")\n",
    "    return r_p"
   ]
  },
  {
   "cell_type": "code",
   "execution_count": 176,
   "metadata": {},
   "outputs": [],
   "source": [
    "def toeplitz(x, M):\n",
    "    covmatrix = np.zeros((M,M))\n",
    "    for i in range(0,M):\n",
    "        covmatrix[[i],i:M] = np.array(x[0:M-i]).T\n",
    "        covmatrix[i:M,i] = x[0:M-i]\n",
    "    return covmatrix"
   ]
  },
  {
   "cell_type": "code",
   "execution_count": 199,
   "metadata": {},
   "outputs": [],
   "source": [
    "t = np.linspace(-1, 1, 50000)\n",
    "x = (np.sin(2*np.pi*0.75*t*(1-t) + 2.1) +\n",
    "     0.1*np.sin(2*np.pi*1.25*t + 1) +\n",
    "     0.18*np.cos(2*np.pi*3.85*t))\n",
    "xn = x + np.random.randn(len(t)) * 0.08"
   ]
  },
  {
   "cell_type": "code",
   "execution_count": 200,
   "metadata": {},
   "outputs": [],
   "source": [
    "x = lfilter(np.ones(4), [1, 1/2, 1/3, 1/4], xn)\n",
    "x = x[len(x)-4096:len(x)]"
   ]
  },
  {
   "cell_type": "code",
   "execution_count": 201,
   "metadata": {},
   "outputs": [
    {
     "name": "stdout",
     "output_type": "stream",
     "text": [
      "4096\n",
      "[-1.00000000e+00 -1.41826627e-13 -1.12244512e-13  9.00740951e-14]\n",
      "[ 0.00000000e+00 -1.46940815e-13 -2.59955392e-13 ... -3.33878111e-13\n",
      " -3.15582720e-13 -3.11708210e-13]\n"
     ]
    }
   ],
   "source": [
    "lag = 3\n",
    "r_p = lpc(x.flatten())\n",
    "r_0 = len(r_p)//2 + 1\n",
    "print(r_0)\n",
    "r_p = r_p[r_0:r_0+lag+1]\n",
    "covmatrix = toeplitz(r_p, lag+1)\n",
    "Acoeffs,resid,rank,s = np.linalg.lstsq((covmatrix),-1*np.array(r_p), rcond=None)\n",
    "print(Acoeffs)\n",
    "est_x = lfilter((np.append(0, Acoeffs[1:])), 1, x)\n",
    "print(est_x)"
   ]
  },
  {
   "cell_type": "code",
   "execution_count": 202,
   "metadata": {},
   "outputs": [
    {
     "data": {
      "text/plain": [
       "[<matplotlib.lines.Line2D at 0x121f2e4c0>]"
      ]
     },
     "execution_count": 202,
     "metadata": {},
     "output_type": "execute_result"
    },
    {
     "data": {
      "image/png": "[encoded data removed]",
      "text/plain": [
       "<Figure size 432x288 with 1 Axes>"
      ]
     },
     "metadata": {
      "needs_background": "light"
     },
     "output_type": "display_data"
    }
   ],
   "source": [
    "plt.plot(x[len(x)-100:len(x)], '--')\n",
    "plt.plot(est_x[len(x)-100:len(x)])"
   ]
  },
  {
   "cell_type": "code",
   "execution_count": null,
   "metadata": {},
   "outputs": [],
   "source": []
  }
 ],
 "metadata": {
  "kernelspec": {
   "display_name": "Python 3",
   "language": "python",
   "name": "python3"
  },
  "language_info": {
   "codemirror_mode": {
    "name": "ipython",
    "version": 3
   },
   "file_extension": ".py",
   "mimetype": "text/x-python",
   "name": "python",
   "nbconvert_exporter": "python",
   "pygments_lexer": "ipython3",
   "version": "3.8.3"
  }
 },
 "nbformat": 4,
 "nbformat_minor": 4
}
