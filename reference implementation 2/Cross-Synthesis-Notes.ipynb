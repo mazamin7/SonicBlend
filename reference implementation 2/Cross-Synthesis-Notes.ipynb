{
 "cells": [
  {
   "cell_type": "markdown",
   "metadata": {},
   "source": [
    "### Notes from http://musicweb.ucsd.edu/~sdubnov/Mu172/Lectures/STFTXsynth.pdf\n",
    "__Impact of window size and shape__\n",
    "The window serves several functions:\n",
    "* It allows controlling the tradeoff between frequency resolution and side-lobe suppression (i.e. how sharp a peak in frequency is versus how high are the sidelobes)\n",
    "* Using band-limited window allows better “localization” in time-frequency. Note that square window is not band-limited.\n",
    "* To allow perfect reconstruction the *windows must sum up to 1* (so called COLA condition, to be explained later)\n",
    "\n",
    " since we are dealing with\n",
    "discrete time and discrete frequency signals, multiplication between DFT’s is equivalent\n",
    "to circular-convolution and NOT linear convolution. We have investigated this topic in\n",
    "the previous set of notes in relation to fftfilt. We need to assure that the equivalent time\n",
    "domain impulse response for our desired frequency modification is time-limited so that\n",
    "we can use a long FFT with zero padding to turn the circular convolution into a linear\n",
    "(regular) convolution. Unless we can assure that, the result of manipulating the spectral\n",
    "contents of STFT will result in so called time-aliasing artifact, which is just another name\n",
    "for circular convolution.\n",
    "\n",
    "If we perform a filtering operation by cutting off the frequencies outside of the passband,\n",
    "as described above and go directly to synthesize the signal by ITFT, we actually\n",
    "implement an ideal passband filter, which has an impulse response nfft long . This means\n",
    "in fact that in terms of fftfilt operation we are doing the wrong thing since both the signal\n",
    "window and the filter impulse response are same length as the fft size. Doing such\n",
    "modification followed by ISTFT will create time-aliasing. \n",
    "- the length of the convolution = len(signal) + len(filter impulse response) - 1.\n",
    "- need to zero-pad both vectors before doing fft convolution\n",
    "\n",
    "\n"
   ]
  },
  {
   "cell_type": "markdown",
   "metadata": {},
   "source": [
    "#### E.g. computing acyclic convolution in the freq domain\n",
    "```\n",
    "x = [1 2 3 4];\n",
    "h = [1 1 1];\n",
    "\n",
    "// conv(x, h) will have length len(x) + len(h) - 1\n",
    "\n",
    "nx = length(x);\n",
    "nh = length(h);\n",
    "nfft = 2^nextpow2(nx+nh-1) // nfft = smallest 2^n >= len(conv(x,h))\n",
    "xzp = [x, zeros(1,nfft-nx)]; // pad samples until length N > len(conv(x,h))\n",
    "hzp = [h, zeros(1,nfft-nh)];  // padding is necessary to avoid time-aliasing\n",
    "X = fft(xzp);  \n",
    "H = fft(hzp);\n",
    "\n",
    "Y = H .* X;  // convolution thm states DFT(conv(x,y)) = X .* Y\n",
    "y = real(ifft(Y)) % zero-padded result\n",
    "yt = y(1:nx+nh-1) % trim and print\n",
    "yc = conv(x,h)    % for comparison\n",
    "```\n",
    "\n",
    "Computing convolution in freq domain begins being faster than time-domain starting at length `N = 64`\n",
    "\n",
    "In freq domain: $O(nlgn)$\n",
    "\n",
    "In time domain: $O(n^2)$"
   ]
  },
  {
   "cell_type": "markdown",
   "metadata": {},
   "source": [
    "__TODO: figure out OLA window summing__\n",
    "\n",
    "1. You will be provided a first sketch of the windowed buffering function winbuf.m\n",
    "The function creates a matrix where every column is a windowed segment of the\n",
    "original waveform. The signal contents in the columns overlap according to\n",
    "parameters specified in winbuf function.\n",
    "2. This function can be modified to create an OLA procedure that reconstructs the\n",
    "original sound samples from the buffer matrix. The input is the buffer and hop\n",
    "size. Name the function ola.m\n"
   ]
  },
  {
   "cell_type": "code",
   "execution_count": 27,
   "metadata": {},
   "outputs": [
    {
     "name": "stdout",
     "output_type": "stream",
     "text": [
      "0\n",
      "16\n",
      "32\n",
      "48\n",
      "64\n"
     ]
    },
    {
     "data": {
      "image/png": "[encoded data removed]",
      "text/plain": [
       "<Figure size 432x288 with 1 Axes>"
      ]
     },
     "metadata": {
      "needs_background": "light"
     },
     "output_type": "display_data"
    }
   ],
   "source": [
    "import numpy as np\n",
    "import matplotlib.pyplot as plt\n",
    "# COLA Windows\n",
    "\n",
    "def get_hamming(M):    \n",
    "    return 0.54 - (0.46*np.cos(2*np.pi* np.arange(M) / M))\n",
    "\"\"\"\n",
    "M = 33;          % window length\n",
    "R = (M-1)/2;     % hop size\n",
    "N = 3*M;         % overlap-add span\n",
    "w = hamming(M);  % window\n",
    "z = zeros(N,1);  plot(z,'-k');  hold on;  s = z;\n",
    "for so=0:R:N-M\n",
    "  ndx = so+1:so+M;        % current window location\n",
    "  s(ndx) = s(ndx) + w;    % window overlap-add\n",
    "  wzp = z; wzp(ndx) = w;  % for plot only \n",
    "  plot(wzp,'--ok');       % plot just this window\n",
    "end\n",
    "\"\"\"\n",
    "M = np.power(2,5)  # window size\n",
    "N = 3*M  # total signal length\n",
    "R = M // 2  # hop size\n",
    "s = np.zeros(N)\n",
    "w = get_hamming(M)\n",
    "for m in range(0,N-M+1,R):\n",
    "    print(m)\n",
    "    z = np.zeros(N)\n",
    "    z[m:m+M] += w\n",
    "    plt.plot(z)\n",
    "    s[m:m+M] += w    \n",
    "\n",
    "plt.plot(get_hamming(M))\n",
    "plt.plot(s)\n",
    "plt.grid()\n",
    "plt.show()\n",
    "\n",
    "\n",
    "\n",
    "\n",
    "\n",
    "\n",
    "\n",
    "\n",
    "\n",
    "\n",
    "\n",
    "\n",
    "\n"
   ]
  },
  {
   "cell_type": "markdown",
   "metadata": {},
   "source": [
    "![alt text](img/picture.png \"Titlefefef\") \n"
   ]
  },
  {
   "cell_type": "code",
   "execution_count": null,
   "metadata": {},
   "outputs": [],
   "source": []
  }
 ],
 "metadata": {
  "kernelspec": {
   "display_name": "Python 3 (ipykernel)",
   "language": "python",
   "name": "python3"
  },
  "language_info": {
   "codemirror_mode": {
    "name": "ipython",
    "version": 3
   },
   "file_extension": ".py",
   "mimetype": "text/x-python",
   "name": "python",
   "nbconvert_exporter": "python",
   "pygments_lexer": "ipython3",
   "version": "3.10.9"
  }
 },
 "nbformat": 4,
 "nbformat_minor": 4
}
